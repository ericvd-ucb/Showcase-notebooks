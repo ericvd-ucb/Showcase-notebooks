{
 "cells": [
  {
   "cell_type": "code",
   "execution_count": null,
   "metadata": {
    "collapsed": true
   },
   "outputs": [],
   "source": [
    "# run this cell\n",
    "from datascience import *\n",
    "from pandas import read_stata\n",
    "import numpy as np\n",
    "\n",
    "import matplotlib\n",
    "matplotlib.use('Agg', warn=False)\n",
    "%matplotlib inline\n",
    "import matplotlib.pyplot as plots\n",
    "plots.style.use('fivethirtyeight')\n",
    "import warnings\n",
    "warnings.simplefilter(action=\"ignore\", category=FutureWarning)\n",
    "\n",
    "data = Table.read_table('***Name of your data table***')\n",
    "data"
   ]
  },
  {
   "cell_type": "markdown",
   "metadata": {},
   "source": [
    "# Income\n",
    "This week we are going to explore income inequality in your data.\n",
    "\n",
    "For most of you, income data is in a separate data file.  Import this data file from Stata."
   ]
  },
  {
   "cell_type": "code",
   "execution_count": null,
   "metadata": {
    "collapsed": true
   },
   "outputs": [],
   "source": [
    "# importing\n",
    "employment =  Table.from_df(read_stata(***File Name***, convert_categoricals=False).fillna(-99))\n",
    "employment"
   ]
  },
  {
   "cell_type": "code",
   "execution_count": null,
   "metadata": {
    "collapsed": true
   },
   "outputs": [],
   "source": [
    "# renaming\n",
    "employment_vars = [***Current Variable Names***]\n",
    "new_employment_vars = [***New Variable Names***]\n",
    "employment_renamed = employment.select(employment_vars).relabel(employment_vars, new_employment_vars)"
   ]
  },
  {
   "cell_type": "markdown",
   "metadata": {},
   "source": [
    "We want to have a total yearly income for each person's job.  Make a new column that converts the payment to yearly payment.  To do this, you will use the time frame about which the question was asked: income daily, biweekly, monthly, yearly, etc. "
   ]
  },
  {
   "cell_type": "code",
   "execution_count": null,
   "metadata": {
    "collapsed": true
   },
   "outputs": [],
   "source": [
    "# you are going to want to change the return values in this function to fit your survey\n",
    "# feel free to add as many elif clauses as necessary\n",
    "def income_time_code(code):\n",
    "    '''Converts the CODE to a constant for annualization of the income\n",
    "    For example, if '1' corresponds to hour, we will convert it to a full time job.\n",
    "    1 -- hour (would return 40*52 [40 hours per week, 52 weeks per year])\n",
    "    2 -- day  (returns 5*52 [5 days a week, 52 weeks per year])\n",
    "    3 -- week (returns 52 [52 weeks per year])\n",
    "    4 -- month (returns 12 [12 months per year])'''\n",
    "    code = int(code)\n",
    "    if code == ***time code***:\n",
    "        return ***conversion rate***\n",
    "    elif code == ***time code***:\n",
    "        return ***conversion rate***\n",
    "    elif code == ***time code***:\n",
    "        return ***conversion rate***\n",
    "    elif code == ***time code***:\n",
    "        return ***conversion rate***"
   ]
  },
  {
   "cell_type": "code",
   "execution_count": null,
   "metadata": {
    "collapsed": true
   },
   "outputs": [],
   "source": [
    "# time_coef should be an array of the values that must be multiplied to your income \n",
    "time_coef = employment_renamed.with_column('Time Coef', ***Apply the function that you defined in the previous cell***)\n",
    "\n",
    "# A table with the bad values  filtered out\n",
    "actual_data = time_coef.where(time_coef.apply(type, 'Time Coef') == int)\n",
    "\n",
    "# Now multiply those time unit column and the column of their\n",
    "# last paycheck together to get their annualized income\n",
    "annualized = actual_data.with_column('Annualized', ***How do you get the values of this column?***)\n",
    "\n",
    "employment_renamed = annualized\n",
    "employment_renamed"
   ]
  },
  {
   "cell_type": "markdown",
   "metadata": {
    "collapsed": true
   },
   "source": [
    "Create the master ID for your employment_renamed table. The append_master_id function that you used in Lab 1 is below if you need to use it."
   ]
  },
  {
   "cell_type": "code",
   "execution_count": null,
   "metadata": {
    "collapsed": true
   },
   "outputs": [],
   "source": [
    "def append_master_id(table, household_id_label=\"Household ID\", individual_id_label=\"Individual ID\"):\n",
    "\n",
    "    #Fill in value of n. Should be 1 more than the number of digits of the largest number in the Household ID column.\n",
    "    n = 3\n",
    "    \n",
    "    household_col = table[household_id_label]\n",
    "    individual_col = table[individual_id_label]\n",
    "    master_col = []\n",
    "    for household_id, individual_id in zip(household_col, individual_col):\n",
    "        master_col.append(household_id * 10**n + individual_id)\n",
    "    return table.with_column('Master ID', master_col)"
   ]
  },
  {
   "cell_type": "code",
   "execution_count": null,
   "metadata": {
    "collapsed": true
   },
   "outputs": [],
   "source": [
    "# Make sure to drop unnecessary columns\n",
    "employment_renamed = ***employment_renamed with a master id column***"
   ]
  },
  {
   "cell_type": "markdown",
   "metadata": {},
   "source": [
    "Some people may have multiple jobs.  Combine incomes so we only have one observation for each person."
   ]
  },
  {
   "cell_type": "code",
   "execution_count": null,
   "metadata": {
    "collapsed": true
   },
   "outputs": [],
   "source": [
    "# This line will show us how many individuals have more than one job\n",
    "employment_renamed.group('Master ID').sort('count', descending = True)"
   ]
  },
  {
   "cell_type": "code",
   "execution_count": null,
   "metadata": {
    "collapsed": true
   },
   "outputs": [],
   "source": [
    "# HINT: group can take additional arguments, look at the documentation to see how to implement the second argument\n",
    "# Once again, make sure to drop unnecessary columns\n",
    "final_employment = \n",
    "final_employment"
   ]
  },
  {
   "cell_type": "markdown",
   "metadata": {},
   "source": [
    "Join this new table (\"Master ID\" & \"Yearly Income\") to your main data table.  We don't want to lose the rows that do not have a master id in the final_employment table, so use join_keeping_all_main_table_rows. After you join,  make sure you still have the right number of people in your data set!"
   ]
  },
  {
   "cell_type": "code",
   "execution_count": null,
   "metadata": {
    "collapsed": true
   },
   "outputs": [],
   "source": [
    "def join_keeping_all_main_table_rows(main_table, joined, fill_in_value=-99, combining_column_label='Master ID', using_labels='left'):\n",
    "    #can change using_labels to 'outer' if you want to keep all values of joining column from both tables\n",
    "    df_main_table = main_table.to_df()\n",
    "    df_joined = joined.to_df()\n",
    "    df_combined = df_main_table.merge(df_joined, on=combining_column_label, how=using_labels).fillna(fill_in_value)\n",
    "    return Table.from_df(df_combined)"
   ]
  },
  {
   "cell_type": "code",
   "execution_count": null,
   "metadata": {
    "collapsed": true
   },
   "outputs": [],
   "source": [
    "data = \n",
    "data"
   ]
  },
  {
   "cell_type": "markdown",
   "metadata": {},
   "source": [
    "Save your data, we will be using this in future labs!"
   ]
  },
  {
   "cell_type": "code",
   "execution_count": null,
   "metadata": {
    "collapsed": true
   },
   "outputs": [],
   "source": [
    "data.to_csv('***desired file name***')"
   ]
  },
  {
   "cell_type": "markdown",
   "metadata": {},
   "source": [
    "<font color=\"Blue\"> Item 1: Among those who are earning money, what is the average income earned monthly by the people in your data.  Convert this to dollars - if you can, use the conversion rates from the year of the survey.  "
   ]
  },
  {
   "cell_type": "code",
   "execution_count": null,
   "metadata": {
    "collapsed": true
   },
   "outputs": [],
   "source": []
  },
  {
   "cell_type": "markdown",
   "metadata": {},
   "source": [
    "We want to calculate the household income per capita and append it our data table. In order to do that, we will have to calculate the total household income and total number of people for each household. We will also do this for households that do not have income earners."
   ]
  },
  {
   "cell_type": "code",
   "execution_count": null,
   "metadata": {
    "collapsed": true
   },
   "outputs": [],
   "source": [
    "# First, add a column 'Household Size' to your data table, \n",
    "# which has the number of people in the household for each row\n",
    "# hint: you may have this in the household composition lab (Lab 4)\n"
   ]
  },
  {
   "cell_type": "code",
   "execution_count": null,
   "metadata": {
    "collapsed": true
   },
   "outputs": [],
   "source": [
    "# Next, using your income_earners table, group by Household ID and find\n",
    "# the sum of incomes for each household. Turn that into a table with two\n",
    "# columns, 'Household ID' and 'Household Income'\n"
   ]
  },
  {
   "cell_type": "code",
   "execution_count": null,
   "metadata": {
    "collapsed": true
   },
   "outputs": [],
   "source": [
    "# Now combine the two tables using the join_keeping_all_main_table_rows\n",
    "# function, and use these values for your arguments:\n",
    "# main_table = your data table\n",
    "# joined = your table with household incomes\n",
    "# fill_in_value = 0 (households without any income earners have zero dollars)\n",
    "# combining_column_label = 'Household ID'\n"
   ]
  },
  {
   "cell_type": "code",
   "execution_count": null,
   "metadata": {
    "collapsed": true
   },
   "outputs": [],
   "source": [
    "# Finally, you will create a new column, 'Household Income per Capita,' which is \n",
    "# equal to 'Household Income' divided by 'Household Size'\n"
   ]
  },
  {
   "cell_type": "markdown",
   "metadata": {},
   "source": [
    "<font color=\"Blue\"> Item 2: What is the average household income per capita? (Note: make sure your denominator is households, not individuals.) Convert to dollars.  Compare this to the World Bank's interational poverty line of $1.90 a day. "
   ]
  },
  {
   "cell_type": "markdown",
   "metadata": {},
   "source": [
    "Do this once for households with income earners, and then once for all households."
   ]
  },
  {
   "cell_type": "code",
   "execution_count": null,
   "metadata": {
    "collapsed": true
   },
   "outputs": [],
   "source": []
  },
  {
   "cell_type": "markdown",
   "metadata": {},
   "source": [
    "<font color=\"Blue\"> Item 3: What percentage of households live below your country's poverty line (you will have to look this up - could be different from the World Bank poverty line.)"
   ]
  },
  {
   "cell_type": "markdown",
   "metadata": {},
   "source": [
    "Do this once for households with income earners, and then once for all households."
   ]
  },
  {
   "cell_type": "code",
   "execution_count": null,
   "metadata": {
    "collapsed": true
   },
   "outputs": [],
   "source": []
  },
  {
   "cell_type": "markdown",
   "metadata": {},
   "source": [
    "## Income inequality - the Lorenz Curve & Gini Coefficent\n",
    "Examining the poverty line is one way to consider income inquality.  Another way is to look at concentration of wealth.  The Lorenz curve is a graphical illustration of this and the Gini Coefficient is a numeric representation.  The Lorenz curve lines up the population from poorest to richest on the x axis, and then the y-axis graphs cumulative income of all the people poorer than the one on the x axis.  To make these comparable across countries, these are translated into percentages.  (0,0) and (100,100) are always the end points of the curve: 0% of the people own nothing while 100% of the people own 100% of the wealth.  \n",
    "\n",
    "Let's line up our individual income earners to look at inequality just among income earners.  Let's start with a fresh table, with the column of the income.  Let's put the table of incomes in order from lowest to highest.  Then let's make a new column, that adds up all incomes above the row.  Here's an example:\n",
    "\n",
    "<style type=\"text/css\">\n",
    ".tg  {border-collapse:collapse;border-spacing:0;}\n",
    ".tg td{font-family:Arial, sans-serif;font-size:14px;padding:10px 5px;border-style:solid;border-width:1px;overflow:hidden;word-break:normal;}\n",
    ".tg th{font-family:Arial, sans-serif;font-size:14px;font-weight:normal;padding:10px 5px;border-style:solid;border-width:1px;overflow:hidden;word-break:normal;}\n",
    ".tg .tg-baqh{text-align:center;vertical-align:top}\n",
    "</style>\n",
    "<table class=\"tg\">\n",
    "  <tr>\n",
    "    <th class=\"tg-baqh\">Income</th>\n",
    "    <th class=\"tg-baqh\">Cumulative Income</th>\n",
    "  </tr>\n",
    "  <tr>\n",
    "    <td class=\"tg-baqh\">3</td>\n",
    "    <td class=\"tg-baqh\">3</td>\n",
    "  </tr>\n",
    "  <tr>\n",
    "    <td class=\"tg-baqh\">3</td>\n",
    "    <td class=\"tg-baqh\">6</td>\n",
    "  </tr>\n",
    "  <tr>\n",
    "    <td class=\"tg-baqh\">4</td>\n",
    "    <td class=\"tg-baqh\">10</td>\n",
    "  </tr>\n",
    "  <tr>\n",
    "    <td class=\"tg-baqh\">7</td>\n",
    "    <td class=\"tg-baqh\">17</td>\n",
    "  </tr>\n",
    "  <tr>\n",
    "    <td class=\"tg-baqh\">8</td>\n",
    "    <td class=\"tg-baqh\">26</td>\n",
    "  </tr>\n",
    "</table>"
   ]
  },
  {
   "cell_type": "code",
   "execution_count": null,
   "metadata": {
    "collapsed": true
   },
   "outputs": [],
   "source": [
    "# First, you are going to want to get your incomes in order\n",
    "# this should be a list or an array\n",
    "ordered_incomes = "
   ]
  },
  {
   "cell_type": "code",
   "execution_count": null,
   "metadata": {
    "collapsed": true
   },
   "outputs": [],
   "source": [
    "# This for loop creates a list called cumulative_step, which stores the values for the 'Cumulative Income' column\n",
    "total = 0\n",
    "cumulative_step = []\n",
    "for x in ordered_incomes:\n",
    "    total = x + total\n",
    "    cumulative_step.append(total)"
   ]
  },
  {
   "cell_type": "code",
   "execution_count": null,
   "metadata": {
    "collapsed": true
   },
   "outputs": [],
   "source": [
    "lorenz_table = Table().with_columns(\n",
    "    ['Income', ordered_incomes],\n",
    "    ['Cumulative Income', cumulative_step])"
   ]
  },
  {
   "cell_type": "markdown",
   "metadata": {},
   "source": [
    "Now we will need to turn these into percentages.  Go to the last row of the table.  This will tell you the total amount of income in the economy.  We will divide the Cumulative Income column by this number.  In the example, that is 25.  Although my table shows the percent sign, you do not have to include the percent sign in your table.  In fact, there will be one less step for graphing if you do not include the percent sign.\n",
    "\n",
    "<style type=\"text/css\">\n",
    ".tg  {border-collapse:collapse;border-spacing:0;}\n",
    ".tg td{font-family:Arial, sans-serif;font-size:14px;padding:10px 5px;border-style:solid;border-width:1px;overflow:hidden;word-break:normal;}\n",
    ".tg th{font-family:Arial, sans-serif;font-size:14px;font-weight:normal;padding:10px 5px;border-style:solid;border-width:1px;overflow:hidden;word-break:normal;}\n",
    ".tg .tg-baqh{text-align:center;vertical-align:top}\n",
    ".tg .tg-yw4l{vertical-align:top}\n",
    "</style>\n",
    "<table class=\"tg\">\n",
    "  <tr>\n",
    "    <th class=\"tg-baqh\">Income</th>\n",
    "    <th class=\"tg-baqh\">Cumulative Income</th>\n",
    "    <th class=\"tg-yw4l\">Percentage Income</th>\n",
    "  </tr>\n",
    "  <tr>\n",
    "    <td class=\"tg-baqh\">3</td>\n",
    "    <td class=\"tg-baqh\">3</td>\n",
    "    <td class=\"tg-yw4l\">12%</td>\n",
    "  </tr>\n",
    "  <tr>\n",
    "    <td class=\"tg-baqh\">3</td>\n",
    "    <td class=\"tg-baqh\">6</td>\n",
    "    <td class=\"tg-yw4l\">24%</td>\n",
    "  </tr>\n",
    "  <tr>\n",
    "    <td class=\"tg-baqh\">4</td>\n",
    "    <td class=\"tg-baqh\">10</td>\n",
    "    <td class=\"tg-yw4l\">40%</td>\n",
    "  </tr>\n",
    "  <tr>\n",
    "    <td class=\"tg-baqh\">7</td>\n",
    "    <td class=\"tg-baqh\">17</td>\n",
    "    <td class=\"tg-yw4l\">68%</td>\n",
    "  </tr>\n",
    "  <tr>\n",
    "    <td class=\"tg-baqh\">8</td>\n",
    "    <td class=\"tg-baqh\">25</td>\n",
    "    <td class=\"tg-yw4l\">100%</td>\n",
    "  </tr>\n",
    "</table>\n"
   ]
  },
  {
   "cell_type": "code",
   "execution_count": null,
   "metadata": {
    "collapsed": true
   },
   "outputs": [],
   "source": [
    "# This for loop creates a list called percents, which stores the values for the 'Percentage Income' column\n",
    "# Define total_income, which is the sum of all of the incomes in the table\n",
    "total_income = \n",
    "percents = []\n",
    "for x in cumulative_step:\n",
    "    percent = x / total_income\n",
    "    percents.append(percent)"
   ]
  },
  {
   "cell_type": "code",
   "execution_count": null,
   "metadata": {
    "collapsed": true
   },
   "outputs": [],
   "source": [
    "# Add 'percents' to 'lorenz_table'\n",
    "lorenz_table = "
   ]
  },
  {
   "cell_type": "markdown",
   "metadata": {},
   "source": [
    "Now we need to put the population in terms of percentage.  Add a new column that counts the income earners.  As in this table, there may be some people that have the same income.  It does not matter which order these go in.  Again, go to the last row and divide the count column by the total number of income earners.\n",
    "\n",
    "<style type=\"text/css\">\n",
    ".tg  {border-collapse:collapse;border-spacing:0;}\n",
    ".tg td{font-family:Arial, sans-serif;font-size:14px;padding:10px 5px;border-style:solid;border-width:1px;overflow:hidden;word-break:normal;}\n",
    ".tg th{font-family:Arial, sans-serif;font-size:14px;font-weight:normal;padding:10px 5px;border-style:solid;border-width:1px;overflow:hidden;word-break:normal;}\n",
    ".tg .tg-baqh{text-align:center;vertical-align:top}\n",
    ".tg .tg-yw4l{vertical-align:top}\n",
    "</style>\n",
    "<table class=\"tg\">\n",
    "  <tr>\n",
    "    <th class=\"tg-baqh\">Income</th>\n",
    "    <th class=\"tg-baqh\">Cumulative Income</th>\n",
    "    <th class=\"tg-yw4l\">Percentage Income</th>\n",
    "    <th class=\"tg-yw4l\">Count</th>\n",
    "    <th class=\"tg-yw4l\">Percentage Population</th>\n",
    "  </tr>\n",
    "  <tr>\n",
    "    <td class=\"tg-baqh\">3</td>\n",
    "    <td class=\"tg-baqh\">3</td>\n",
    "    <td class=\"tg-yw4l\">12%</td>\n",
    "    <td class=\"tg-yw4l\">1</td>\n",
    "    <td class=\"tg-yw4l\">20%</td>\n",
    "  </tr>\n",
    "  <tr>\n",
    "    <td class=\"tg-baqh\">3</td>\n",
    "    <td class=\"tg-baqh\">6</td>\n",
    "    <td class=\"tg-yw4l\">24%</td>\n",
    "    <td class=\"tg-yw4l\">2</td>\n",
    "    <td class=\"tg-yw4l\">40%</td>\n",
    "  </tr>\n",
    "  <tr>\n",
    "    <td class=\"tg-baqh\">4</td>\n",
    "    <td class=\"tg-baqh\">10</td>\n",
    "    <td class=\"tg-yw4l\">40%</td>\n",
    "    <td class=\"tg-yw4l\">3</td>\n",
    "    <td class=\"tg-yw4l\">60%</td>\n",
    "  </tr>\n",
    "  <tr>\n",
    "    <td class=\"tg-baqh\">7</td>\n",
    "    <td class=\"tg-baqh\">17</td>\n",
    "    <td class=\"tg-yw4l\">68%</td>\n",
    "    <td class=\"tg-yw4l\">4</td>\n",
    "    <td class=\"tg-yw4l\">80%</td>\n",
    "  </tr>\n",
    "  <tr>\n",
    "    <td class=\"tg-baqh\">8</td>\n",
    "    <td class=\"tg-baqh\">26</td>\n",
    "    <td class=\"tg-yw4l\">100%</td>\n",
    "    <td class=\"tg-yw4l\">5</td>\n",
    "    <td class=\"tg-yw4l\">100%</td>\n",
    "  </tr>\n",
    "</table>"
   ]
  },
  {
   "cell_type": "code",
   "execution_count": null,
   "metadata": {
    "collapsed": true
   },
   "outputs": [],
   "source": [
    "# This for loop creates two lists, spot and pop_percent, which\n",
    "#     contain the cumulative number of people and the cumulative population percentage\n",
    "# Define total_pop, which the number of people in this table\n",
    "total_pop = \n",
    "count = 0\n",
    "spot = []\n",
    "pop_percent = []\n",
    "for i in ordered_incomes:\n",
    "    count += 1\n",
    "    spot.append(count)\n",
    "    pop_percent.append(count / total_pop)"
   ]
  },
  {
   "cell_type": "markdown",
   "metadata": {},
   "source": [
    "We are missing the 0,0 row at the begining.  Add this row in.  You have not been using percentage signs in your table, so you don't need to add them in for the these zeros either.\n",
    "\n",
    "<style type=\"text/css\">\n",
    ".tg  {border-collapse:collapse;border-spacing:0;}\n",
    ".tg td{font-family:Arial, sans-serif;font-size:14px;padding:10px 5px;border-style:solid;border-width:1px;overflow:hidden;word-break:normal;}\n",
    ".tg th{font-family:Arial, sans-serif;font-size:14px;font-weight:normal;padding:10px 5px;border-style:solid;border-width:1px;overflow:hidden;word-break:normal;}\n",
    ".tg .tg-baqh{text-align:center;vertical-align:top}\n",
    ".tg .tg-yw4l{vertical-align:top}\n",
    "</style>\n",
    "<table class=\"tg\">\n",
    "  <tr>\n",
    "    <th class=\"tg-baqh\">Income</th>\n",
    "    <th class=\"tg-baqh\">Cumulative Income</th>\n",
    "    <th class=\"tg-yw4l\">Percentage Income</th>\n",
    "    <th class=\"tg-yw4l\">Count</th>\n",
    "    <th class=\"tg-yw4l\">Percentage Population</th>\n",
    "  </tr>\n",
    "  <tr>\n",
    "    <td class=\"tg-yw4l\"></td>\n",
    "    <td class=\"tg-yw4l\"></td>\n",
    "    <td class=\"tg-yw4l\">0%</td>\n",
    "    <td class=\"tg-yw4l\"></td>\n",
    "    <td class=\"tg-yw4l\">0%</td>\n",
    "  </tr>\n",
    "  <tr>\n",
    "    <td class=\"tg-baqh\">3</td>\n",
    "    <td class=\"tg-baqh\">3</td>\n",
    "    <td class=\"tg-yw4l\">12%</td>\n",
    "    <td class=\"tg-yw4l\">1</td>\n",
    "    <td class=\"tg-yw4l\">20%</td>\n",
    "  </tr>\n",
    "  <tr>\n",
    "    <td class=\"tg-baqh\">3</td>\n",
    "    <td class=\"tg-baqh\">6</td>\n",
    "    <td class=\"tg-yw4l\">24%</td>\n",
    "    <td class=\"tg-yw4l\">2</td>\n",
    "    <td class=\"tg-yw4l\">40%</td>\n",
    "  </tr>\n",
    "  <tr>\n",
    "    <td class=\"tg-baqh\">4</td>\n",
    "    <td class=\"tg-baqh\">10</td>\n",
    "    <td class=\"tg-yw4l\">40%</td>\n",
    "    <td class=\"tg-yw4l\">3</td>\n",
    "    <td class=\"tg-yw4l\">60%</td>\n",
    "  </tr>\n",
    "  <tr>\n",
    "    <td class=\"tg-baqh\">7</td>\n",
    "    <td class=\"tg-baqh\">17</td>\n",
    "    <td class=\"tg-yw4l\">68%</td>\n",
    "    <td class=\"tg-yw4l\">4</td>\n",
    "    <td class=\"tg-yw4l\">80%</td>\n",
    "  </tr>\n",
    "  <tr>\n",
    "    <td class=\"tg-baqh\">8</td>\n",
    "    <td class=\"tg-baqh\">26</td>\n",
    "    <td class=\"tg-yw4l\">100%</td>\n",
    "    <td class=\"tg-yw4l\">5</td>\n",
    "    <td class=\"tg-yw4l\">100%</td>\n",
    "  </tr>\n",
    "</table>"
   ]
  },
  {
   "cell_type": "code",
   "execution_count": null,
   "metadata": {
    "collapsed": true
   },
   "outputs": [],
   "source": [
    "# Because we will only be using the columns 'Population Income' and 'Percentage Population,'\n",
    "# it does not matter what you fill in for the other column values of the inserted row\n"
   ]
  },
  {
   "cell_type": "markdown",
   "metadata": {},
   "source": [
    "You are ready to graph the Lorenz curve! \n",
    "<font color=\"Blue\"> Item 4: Make a line graph with percentage population on the x axis and percentage income on the y axis."
   ]
  },
  {
   "cell_type": "code",
   "execution_count": null,
   "metadata": {
    "collapsed": false
   },
   "outputs": [],
   "source": [
    "x_values = lorenz_table['Percentage Population']\n",
    "y_values = lorenz_table['Percentage Income']\n",
    "\n",
    "plots.xlabel('Income Percentage')\n",
    "plots.ylabel('Population Percentage')\n",
    "plots.title('Lorenz Curve')\n",
    "\n",
    "plots.scatter(x_values,y_values)"
   ]
  },
  {
   "cell_type": "markdown",
   "metadata": {},
   "source": [
    "<font color=\"Blue\"> Item 5: Calculate the Gini coefficient.\n",
    "<font color=\"Black\">The Gini coefficient is the area between the line and the 45% line.  It is the sum of the differences between Percent Population and Percent Income divided by the sum of Percent Population.  This number is between 0 and 1.  Consider if a smaller number represents more inequality and what the relationship of the formula to the graph is.  \n",
    "\n",
    "$$ \\frac{\\Sigma_{i=1}^{N} (\\% Pop_i - \\% Inc_i)}{\\Sigma_{i=1}^{N} \\% Pop_i}$$\n",
    "\n",
    "Note that if there were perfect equality, $\\% Pop_i = \\% Inc_i$."
   ]
  },
  {
   "cell_type": "code",
   "execution_count": null,
   "metadata": {
    "collapsed": true
   },
   "outputs": [],
   "source": []
  },
  {
   "cell_type": "markdown",
   "metadata": {},
   "source": [
    "<font color=\"Blue\"> Items 4a & 5a: Repeat Items 4 & 5, but instead of using individuals who earn, use all individuals, using household income per capita as the income for each person in the household.  Is there more or less inquality among households or among individual earners as measured by the Lorenz curve & Gini coefficient?"
   ]
  },
  {
   "cell_type": "code",
   "execution_count": null,
   "metadata": {
    "collapsed": true
   },
   "outputs": [],
   "source": []
  },
  {
   "cell_type": "markdown",
   "metadata": {},
   "source": [
    "<font color=\"Blue\"> Item 6: We use Household Income Per Capita, assuming that everyone in the household consumes and equal share of the earnings.  Do you think this is accurate?  If not, and we could accurately measure how much each person consumed in the household, how would using individual consumption instead of average income change our measures of inequality?"
   ]
  },
  {
   "cell_type": "code",
   "execution_count": null,
   "metadata": {
    "collapsed": true
   },
   "outputs": [],
   "source": []
  }
 ],
 "metadata": {
  "anaconda-cloud": {},
  "kernelspec": {
   "display_name": "Python 3",
   "language": "python",
   "name": "python3"
  },
  "language_info": {
   "codemirror_mode": {
    "name": "ipython",
    "version": 3
   },
   "file_extension": ".py",
   "mimetype": "text/x-python",
   "name": "python",
   "nbconvert_exporter": "python",
   "pygments_lexer": "ipython3",
   "version": "3.5.2"
  }
 },
 "nbformat": 4,
 "nbformat_minor": 0
}
